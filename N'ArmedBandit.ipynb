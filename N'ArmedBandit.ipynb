{
  "nbformat": 4,
  "nbformat_minor": 0,
  "metadata": {
    "colab": {
      "provenance": []
    },
    "kernelspec": {
      "name": "python3",
      "display_name": "Python 3"
    },
    "language_info": {
      "name": "python"
    },
    "accelerator": "GPU",
    "gpuClass": "standard"
  },
  "cells": [
    {
      "cell_type": "code",
      "source": [
        "import numpy as np\n",
        "import time\n",
        "import matplotlib.pyplot as plt"
      ],
      "metadata": {
        "id": "1fe6ktzxNfLV"
      },
      "execution_count": null,
      "outputs": []
    },
    {
      "cell_type": "code",
      "source": [
        "# number of arms\n",
        "num_arms = 8\n",
        "bandit=2000\n",
        "np.random.seed(999)\n",
        "arms = [np.random.normal(0,1) for i in range(num_arms)]\n",
        "\n",
        "def reward_dist(a):\n",
        "  arms_true_value =arms\n",
        "  arms_std_devs = [1]*num_arms\n",
        "  return np.random.normal(arms_true_value[a], arms_std_devs[a])"
      ],
      "metadata": {
        "id": "ibcoMip7NreN"
      },
      "execution_count": null,
      "outputs": []
    },
    {
      "cell_type": "code",
      "source": [
        "runtime_rewards = np.array([ np.random.normal(true_reward,1,1000) for true_reward in arms])"
      ],
      "metadata": {
        "id": "s9SQ0NN89_Ib"
      },
      "execution_count": null,
      "outputs": []
    },
    {
      "cell_type": "code",
      "source": [
        "for index in range(num_arms) :\n",
        "    plt.scatter(np.full((1000),index),runtime_rewards[index] )\n",
        "    plt.text(index+0.2,arms[index],str(round(arms[index],2)))\n",
        "plt.plot(range(num_arms), arms,'x', color='yellow')\n",
        "plt.show()"
      ],
      "metadata": {
        "colab": {
          "base_uri": "https://localhost:8080/",
          "height": 265
        },
        "id": "FfYO00Vx-U4T",
        "outputId": "3cc0105f-900f-46c7-960f-a84c82c2da6e"
      },
      "execution_count": null,
      "outputs": [
        {
          "output_type": "display_data",
          "data": {
            "text/plain": [
              "<Figure size 432x288 with 1 Axes>"
            ],
            "image/png": "[encoded data removed]"
          },
          "metadata": {
            "needs_background": "light"
          }
        }
      ]
    },
    {
      "cell_type": "code",
      "source": [
        "arms"
      ],
      "metadata": {
        "colab": {
          "base_uri": "https://localhost:8080/"
        },
        "id": "xMCfn590PFBb",
        "outputId": "91854483-5983-4d3a-a960-5f9031c1a32d"
      },
      "execution_count": null,
      "outputs": [
        {
          "output_type": "execute_result",
          "data": {
            "text/plain": [
              "[0.12715784398970825,\n",
              " 1.4018908824849983,\n",
              " 0.31481498673474084,\n",
              " -0.8584491643464739,\n",
              " -0.2661344367670474,\n",
              " -0.6489007096070148,\n",
              " 1.5662675689381498,\n",
              " -2.0913701906113857]"
            ]
          },
          "metadata": {},
          "execution_count": 5
        }
      ]
    },
    {
      "cell_type": "code",
      "execution_count": null,
      "metadata": {
        "id": "DFv1-EsrNGVA"
      },
      "outputs": [],
      "source": [
        "# e-greedy: \n",
        "# choose the current best, i.e. using argmax with probability 1-epsilon\n",
        "# choose a random arm with probability epsilon\n",
        "def choose_arm_by_egreedy(estimated_values, epsilon = 0.01):\n",
        "  if np.random.random() > epsilon: \n",
        "    return np.argmax(estimated_values) # exploitation\n",
        "  else:\n",
        "    return np.random.randint(num_arms) # exploration\n",
        "\n",
        "def TestBed(eps):\n",
        "    # initial reward distance\n",
        "    initial_reward = np.random.normal(arms, 1)\n",
        "    #print(np.mean(initial_reward))\n",
        "\n",
        "    # record estimated values for each arm\n",
        "    estimated_values =np.zeros((bandit,num_arms))\n",
        "    #print(\"Init:\", estimated_values)\n",
        "\n",
        "\n",
        "    #print(estimated_values)\n",
        "    # record numbers of pulls or plays for each arm\n",
        "    num_pulls = np.zeros((bandit,num_arms))\n",
        "    #print(\"Init:\",  num_pulls)\n",
        "\n",
        "    rewards_collected =np.zeros((bandit,num_arms))\n",
        "    timestep_collected =np.zeros((bandit,num_arms))\n",
        "    # play total_t rounds\n",
        "    total_t = 1000\n",
        "    rewards= [0,np.mean(initial_reward)]\n",
        "    for i in range(2,total_t):\n",
        "      rewards_all_bandits =0\n",
        "      for ban in range(bandit):\n",
        "        #print(ban,i)\n",
        "        arm = choose_arm_by_egreedy(estimated_values[ban],eps)\n",
        "        #print(estimated_values)\n",
        "        reward = reward_dist(arm) # machine from casino\n",
        "        #print(arm,reward,ban)\n",
        "        num_pulls[ban][arm] += 1\n",
        "        timestep_collected[ban][arm]=i+1\n",
        "        #print(reward,rewards_collected[ban][arm])\n",
        "        rewards_collected[ban][arm]+=reward\n",
        "        reward_avg =  rewards_collected[ban][arm]/num_pulls[ban][arm]\n",
        "        rewards_all_bandits +=reward_avg\n",
        "        #print(estimated_values[ban][arm],ban,arm)\n",
        "        estimated_values[ban][arm] = reward_avg\n",
        "      rewards.append(rewards_all_bandits/bandit)\n",
        "    return rewards\n",
        "\n"
      ]
    },
    {
      "cell_type": "code",
      "source": [
        "reward_list=[]\n",
        "for i in [0.0,0.01,0.1]:\n",
        "  rewards = TestBed(i)\n",
        "  reward_list.append(rewards)\n",
        "  #plt.plot(range(1000),rewards)\n"
      ],
      "metadata": {
        "id": "_TBeaBx1Jqbu"
      },
      "execution_count": null,
      "outputs": []
    },
    {
      "cell_type": "code",
      "source": [
        "plt.figure(figsize=(10,10))\n",
        "plt.xlabel('Steps')\n",
        "plt.ylabel('Rewards')\n",
        "epsilon_list = [0.0,0.01,0.1]\n",
        "color = ['violet','red','blue']\n",
        "for index,eps in enumerate(epsilon_list):\n",
        "    plt.plot(np.arange(1000),reward_list[index],label=eps, color=color[index]) \n",
        "plt.legend(loc=2, ncol=2)\n",
        "plt.show()"
      ],
      "metadata": {
        "id": "dJb63rk05aBS",
        "outputId": "d92d80a4-cb0d-4ec4-a2f8-32b83c415652",
        "colab": {
          "base_uri": "https://localhost:8080/",
          "height": 236
        }
      },
      "execution_count": 1,
      "outputs": [
        {
          "output_type": "error",
          "ename": "NameError",
          "evalue": "ignored",
          "traceback": [
            "\u001b[0;31m---------------------------------------------------------------------------\u001b[0m",
            "\u001b[0;31mNameError\u001b[0m                                 Traceback (most recent call last)",
            "\u001b[0;32m<ipython-input-1-8d4610e1a12b>\u001b[0m in \u001b[0;36m<cell line: 1>\u001b[0;34m()\u001b[0m\n\u001b[0;32m----> 1\u001b[0;31m \u001b[0mplt\u001b[0m\u001b[0;34m.\u001b[0m\u001b[0mfigure\u001b[0m\u001b[0;34m(\u001b[0m\u001b[0mfigsize\u001b[0m\u001b[0;34m=\u001b[0m\u001b[0;34m(\u001b[0m\u001b[0;36m10\u001b[0m\u001b[0;34m,\u001b[0m\u001b[0;36m10\u001b[0m\u001b[0;34m)\u001b[0m\u001b[0;34m)\u001b[0m\u001b[0;34m\u001b[0m\u001b[0;34m\u001b[0m\u001b[0m\n\u001b[0m\u001b[1;32m      2\u001b[0m \u001b[0mplt\u001b[0m\u001b[0;34m.\u001b[0m\u001b[0mxlabel\u001b[0m\u001b[0;34m(\u001b[0m\u001b[0;34m'Steps'\u001b[0m\u001b[0;34m)\u001b[0m\u001b[0;34m\u001b[0m\u001b[0;34m\u001b[0m\u001b[0m\n\u001b[1;32m      3\u001b[0m \u001b[0mplt\u001b[0m\u001b[0;34m.\u001b[0m\u001b[0mylabel\u001b[0m\u001b[0;34m(\u001b[0m\u001b[0;34m'Rewards'\u001b[0m\u001b[0;34m)\u001b[0m\u001b[0;34m\u001b[0m\u001b[0;34m\u001b[0m\u001b[0m\n\u001b[1;32m      4\u001b[0m \u001b[0mepsilon_list\u001b[0m \u001b[0;34m=\u001b[0m \u001b[0;34m[\u001b[0m\u001b[0;36m0.0\u001b[0m\u001b[0;34m,\u001b[0m\u001b[0;36m0.01\u001b[0m\u001b[0;34m,\u001b[0m\u001b[0;36m0.1\u001b[0m\u001b[0;34m]\u001b[0m\u001b[0;34m\u001b[0m\u001b[0;34m\u001b[0m\u001b[0m\n\u001b[1;32m      5\u001b[0m \u001b[0mcolor\u001b[0m \u001b[0;34m=\u001b[0m \u001b[0;34m[\u001b[0m\u001b[0;34m'violet'\u001b[0m\u001b[0;34m,\u001b[0m\u001b[0;34m'red'\u001b[0m\u001b[0;34m,\u001b[0m\u001b[0;34m'blue'\u001b[0m\u001b[0;34m]\u001b[0m\u001b[0;34m\u001b[0m\u001b[0;34m\u001b[0m\u001b[0m\n",
            "\u001b[0;31mNameError\u001b[0m: name 'plt' is not defined"
          ]
        }
      ]
    },
    {
      "cell_type": "code",
      "source": [],
      "metadata": {
        "id": "dqc1jM8WDYwu"
      },
      "execution_count": null,
      "outputs": []
    }
  ]
}